{
 "cells": [
  {
   "cell_type": "markdown",
   "id": "801896dd-7519-4344-8cac-2a9e6ce22a74",
   "metadata": {
    "tags": []
   },
   "source": [
    "<img src=\"./images/logo.png\" alt=\"Drawing\" style=\"width: 500px;\"/>"
   ]
  },
  {
   "cell_type": "markdown",
   "id": "86bac2dc-3599-441e-ab23-d952d84d1e24",
   "metadata": {
    "tags": []
   },
   "source": [
    "# **Introduction**\n",
    "\n",
    "You are a newly-promoted data scientist at a leading retail chain. Your task is to build a cutting-edge **AI agent**—a smart data analyst—that will be responsible for processing large volumes of sales data, uncovering valuable insights, and helping the business make data-driven decisions.\n",
    "\n",
    "To start, you’ll dive into the world of big data by analyzing extensive sales and customer information across multiple stores and regions. Your goal is to create a scalable and efficient system using **Apache Spark** for distributed processing, and **EzPresto** to manage and query the datasets. This will lay the foundation for generating actionable insights into customer behavior, product performance, and operational efficiency.\n",
    "\n",
    "Once the data pipeline is in place, you’ll shift focus to building a simple **AI agent** capable of interacting with **large language models (LLMs)**. This agent will use **NVIDIA NIM** to process and interpret the data, offering recommendations, insights, and automating key business processes, such as predicting stock levels, customer trends, and sales forecasts.\n",
    "\n",
    "To make this process seamless and scalable, all of these applications will be running natively within the **HPE Private Cloud AI** environment. With the infrastructure set up and ready to go, you won’t need to worry about complex configurations—just focus on creating the AI-driven analytics engine and leveraging the power of big data.\n",
    "\n",
    "Let's get started!"
   ]
  },
  {
   "cell_type": "markdown",
   "id": "48e6a15a-921c-4c2b-bd96-c4cf08fd9402",
   "metadata": {
    "tags": []
   },
   "source": [
    "# **Prerequisites**"
   ]
  },
  {
   "cell_type": "markdown",
   "id": "d8896bc1-8804-4b4a-ab4b-9a59f2a808aa",
   "metadata": {
    "tags": []
   },
   "source": [
    "1. **Before running exercise notebooks**, open a new tab and start a new **Terminal** session. \n",
    "1. Ensure you are in the same directory path as this notebook.\n",
    "1. Run `pip install -r requirements.txt`. Where applicable, ensure your environment proxy settings are set. "
   ]
  },
  {
   "cell_type": "markdown",
   "id": "6ed95f26-3b1a-4ead-80e9-404ad70171bd",
   "metadata": {
    "tags": []
   },
   "source": [
    "# **Contents**\n",
    "\n",
    "<a href=\"./01.exploring_data_with_spark.ipynb\" style=\"color: black\"><b style=\"color: #01a982;\">Exercise 1:</b> Exploring Sales Data with Apache Spark</a>\n",
    "\n",
    "<a href=\"./02.query_with_ezpreso.ipynb\" style=\"color: black\"><b style=\"color: #01a982;\">Exercise 2:</b> Connecting and Querying Data Sources with EzPresto</a>\n",
    "\n",
    "<a href=\"./03.visualizing_data_superset.ipynb\" style=\"color: black\"><b style=\"color: #01a982;\">Exercise 3:</b> Visualizing Data with Superset</a>\n",
    "\n",
    "<a href=\"./04.model_training.ipynb\" style=\"color: black\"><b style=\"color: #01a982;\">Exercise 4:</b> Building a Image Classification Model with Tensorflow and MLflow</a>\n",
    "\n",
    "<a href=\"./05.working_in_mlflow.ipynb\" style=\"color: black\"><b style=\"color: #01a982;\">Exercise 5:</b> Tracking, Registering and Inferencing Models in MLflow</a>\n",
    "\n",
    "<a href=\"./06.serve_model_KServe.ipynb\" style=\"color: black\"><b style=\"color: #01a982;\">Exercise 6:</b> Serving your model with KServe</a>\n",
    "\n",
    "<a href=\"./07.deploying_retail_application.ipynb\" style=\"color: black\"><b style=\"color: #01a982;\">Exercise 7:</b> Deploying Custom Applications on HPE Ezmeral Unified Analytics</a>\n"
   ]
  },
  {
   "cell_type": "markdown",
   "id": "c122ceda-c34c-4e31-abe2-60c2be2bbedf",
   "metadata": {
    "tags": []
   },
   "source": [
    "# **Acknowledgements**"
   ]
  },
  {
   "cell_type": "markdown",
   "id": "7282ab25-1d87-4c74-8c1c-d792775a363d",
   "metadata": {
    "tags": []
   },
   "source": [
    "The Smart Data Analyst technical demonstration was written and prepared by Vincent Charbonnier.\n"
   ]
  }
 ],
 "metadata": {
  "kernelspec": {
   "display_name": "Python 3 (ipykernel)",
   "language": "python",
   "name": "python3"
  },
  "language_info": {
   "codemirror_mode": {
    "name": "ipython",
    "version": 3
   },
   "file_extension": ".py",
   "mimetype": "text/x-python",
   "name": "python",
   "nbconvert_exporter": "python",
   "pygments_lexer": "ipython3",
   "version": "3.11.9"
  }
 },
 "nbformat": 4,
 "nbformat_minor": 5
}
