{
 "cells": [
  {
   "cell_type": "markdown",
   "id": "801896dd-7519-4344-8cac-2a9e6ce22a74",
   "metadata": {
    "tags": []
   },
   "source": [
    "<img src=\"./images/logo.png\" alt=\"Drawing\" style=\"width: 500px;\"/>"
   ]
  },
  {
   "cell_type": "markdown",
   "id": "8a8effb5-69b6-41f0-9ffa-bfe164e1f3cb",
   "metadata": {
    "tags": []
   },
   "source": [
    "# **Exercise 1:** Deploying and Initializing PostgreSQL on Kubernetes\n",
    "\n",
    "In this exercise, we will walk through deploying a PostgreSQL database in a Kubernetes environment using Python. This process will involve using Kubernetes ```kubectl``` commands to manage persistent storage (Persistent Volume Claims), deployments, services, and initialization of sample data.\n",
    "\n",
    "You will:\n",
    "- Automate the deployment of PostgreSQL on Kubernetes.\n",
    "- Handle resource management like Persistent Volume Claims (PVC) and deployments.\n",
    "- Set up a PostgreSQL database, create tables, and load sample data.\n",
    "- Implement retry logic for connecting to PostgreSQL and ensure a robust setup.\n",
    "\n",
    "**Steps Overview:**\n",
    "- Step 1: Define functions to interact with Kubernetes resources like PVCs, deployments, and services.\n",
    "- Step 2: Set up PostgreSQL on Kubernetes with proper permission handling.\n",
    "- Step 3: Write code to initialize the database by creating tables and loading sample data.\n",
    "- Step 4: Use Python's psycopg2 library to connect and interact with the PostgreSQL database.\n",
    "- Step 5: Generate and load realistic sample data into PostgreSQL for use in subsequent analysis."
   ]
  },
  {
   "cell_type": "markdown",
   "id": "9d2362e7-a150-47cb-9c58-62a72874b55c",
   "metadata": {
    "tags": []
   },
   "source": [
    "### **Prerequisites:**"
   ]
  },
  {
   "cell_type": "markdown",
   "id": "f2755f8c-b0d4-4f73-bb2c-df15c5b17877",
   "metadata": {
    "tags": []
   },
   "source": [
    "As instructed in the [Introductory notebook](./00.introduction.ipynb), ensure that you have run `pip install -r requirements.txt` in a Terminal window, located in the same working directory, prior to running this notebook. "
   ]
  },
  {
   "cell_type": "code",
   "execution_count": null,
   "id": "43bdced2-2f27-46db-ae08-4f85ff96215a",
   "metadata": {},
   "outputs": [],
   "source": [
    "!pip install -r requirements.txt"
   ]
  },
  {
   "cell_type": "markdown",
   "id": "7e7a7dbb-003b-424d-bb37-302ce6493c34",
   "metadata": {
    "tags": []
   },
   "source": [
    "## **1. Prepare the environment**"
   ]
  },
  {
   "cell_type": "markdown",
   "id": "564b154f-70a3-4319-9c31-9e5ad1f0ece0",
   "metadata": {
    "tags": []
   },
   "source": [
    "<div class=\"alert alert-block alert-danger\">\n",
    "    <b>Important:</b> Set your <b>Username</b> here !\n",
    "</div>"
   ]
  },
  {
   "cell_type": "code",
   "execution_count": null,
   "id": "3dcbedce-ef91-4e28-b02d-b54e6dcead35",
   "metadata": {},
   "outputs": [],
   "source": [
    "USERNAME=\"\""
   ]
  },
  {
   "cell_type": "markdown",
   "id": "c16fb2b9-2803-4ed7-9447-86540a24fd21",
   "metadata": {
    "tags": []
   },
   "source": [
    "We start by defining a function to read the Kubernetes namespace from the service account mount point, allowing us to deploy resources in the correct namespace. If not running in a Kubernetes environment, it defaults to the \"default\" namespace."
   ]
  },
  {
   "cell_type": "code",
   "execution_count": null,
   "id": "f2d9ef1d-e4d4-4d42-acb6-c9abae749939",
   "metadata": {
    "tags": []
   },
   "outputs": [],
   "source": [
    "def get_namespace_from_service_account():\n",
    "    \"\"\"\n",
    "    Reads the Kubernetes namespace from the service account mount point.\n",
    "    Returns 'default' if not running in a Kubernetes pod or if the file doesn't exist.\n",
    "    \"\"\"\n",
    "    namespace_file = '/var/run/secrets/kubernetes.io/serviceaccount/namespace'\n",
    "    try:\n",
    "        with open(namespace_file, 'r') as f:\n",
    "            return f.read().strip()\n",
    "    except IOError:\n",
    "        return 'default'"
   ]
  },
  {
   "cell_type": "markdown",
   "id": "a2398849-48ae-4be1-8a62-2c70499b66cd",
   "metadata": {
    "tags": []
   },
   "source": [
    "Set the Global variables required to run the exercise smootly"
   ]
  },
  {
   "cell_type": "code",
   "execution_count": null,
   "id": "7236a3ce-7885-4d69-998b-255f739cb698",
   "metadata": {},
   "outputs": [],
   "source": [
    "# Global configuration\n",
    "NAMESPACE = get_namespace_from_service_account()\n",
    "POSTGRES_PASSWORD = \"postgres\"\n",
    "PG_SERVICE_NAME = f\"{USERNAME}-retailers-postgres\"\n",
    "PG_DATABASE_NAME = f\"{USERNAME}_retailers\"\n",
    "\n",
    "# Print the result\n",
    "print(\"NAMESPACE:\", NAMESPACE)\n",
    "print(\"POSTGRES_PASSWORD:\", POSTGRES_PASSWORD)\n",
    "print(\"PG_SERVICE_NAME:\", PG_SERVICE_NAME)\n",
    "print(\"PG_DATABASE_NAME:\", PG_DATABASE_NAME)"
   ]
  },
  {
   "cell_type": "markdown",
   "id": "3e8d3c36-b5b6-4338-873a-3011f82fddab",
   "metadata": {
    "tags": []
   },
   "source": [
    "## **2. PostgreSQL Deployment Logic:**"
   ]
  },
  {
   "cell_type": "markdown",
   "id": "b948bf2e-8d11-4a4a-b8a3-62074255169c",
   "metadata": {
    "tags": []
   },
   "source": [
    "We deploy PostgreSQL on Kubernetes by using Python's `subprocess` to execute `kubectl` commands. <br>\n",
    "This ensures the deployment is automated, and the correct Persistent Volume Claim (PVC) and deployment configuration are applied."
   ]
  },
  {
   "cell_type": "code",
   "execution_count": null,
   "id": "167d4b40-e409-4be9-8a91-2106cfff2552",
   "metadata": {},
   "outputs": [],
   "source": [
    "import subprocess\n",
    "import time\n",
    "from datetime import datetime"
   ]
  },
  {
   "cell_type": "markdown",
   "id": "e4f468ad-3791-45c8-8f81-403234051516",
   "metadata": {
    "tags": []
   },
   "source": [
    "Get the PostgreSQL pod name."
   ]
  },
  {
   "cell_type": "code",
   "execution_count": null,
   "id": "9439973f-851f-4f2c-97fd-21166e85f2fe",
   "metadata": {
    "tags": []
   },
   "outputs": [],
   "source": [
    "def get_pod_name(namespace, service_name):\n",
    "    \"\"\"Get the PostgreSQL pod name\"\"\"\n",
    "    cmd = f\"kubectl get pods -n {namespace} -l app={service_name} -o jsonpath='{{.items[0].metadata.name}}'\"\n",
    "    try:\n",
    "        return subprocess.run(\n",
    "            cmd, shell=True, check=True, capture_output=True, text=True\n",
    "        ).stdout.strip(\"'\")\n",
    "    except subprocess.CalledProcessError:\n",
    "        return None"
   ]
  },
  {
   "cell_type": "markdown",
   "id": "79755250-d7fd-48e8-9428-7101f4fcc893",
   "metadata": {
    "tags": []
   },
   "source": [
    "Check if a Kubernetes resource exists."
   ]
  },
  {
   "cell_type": "code",
   "execution_count": null,
   "id": "9270c58b-3848-4567-b15e-253f8a3611b8",
   "metadata": {
    "tags": []
   },
   "outputs": [],
   "source": [
    "def resource_exists(resource_type, name, namespace):\n",
    "    \"\"\"Check if a Kubernetes resource exists\"\"\"\n",
    "    cmd = f\"kubectl get {resource_type} {name} -n {namespace} --ignore-not-found --no-headers\"\n",
    "    result = subprocess.run(cmd, shell=True, capture_output=True, text=True)\n",
    "    return bool(result.stdout.strip())"
   ]
  },
  {
   "cell_type": "markdown",
   "id": "923e4cb4-a6b6-43f6-898c-cec975f1659e",
   "metadata": {
    "tags": []
   },
   "source": [
    "Deletes an existing PostgreSQL deployment if it exists in the specified namespace."
   ]
  },
  {
   "cell_type": "code",
   "execution_count": null,
   "id": "eb1e6472-85cd-4fc8-9d8d-5b37dfa98d2f",
   "metadata": {
    "tags": []
   },
   "outputs": [],
   "source": [
    "def delete_existing_deployment(namespace, pg_service_name):\n",
    "    \"\"\"Delete any existing PostgreSQL deployment if present.\"\"\"\n",
    "    try:\n",
    "        subprocess.run(\n",
    "            f\"kubectl delete deployment -n {namespace} {pg_service_name} --ignore-not-found\",\n",
    "            shell=True, check=True\n",
    "        )\n",
    "    except subprocess.CalledProcessError as e:\n",
    "        print(f\"Warning: Could not delete existing deployment (may not have permissions): {e}\")"
   ]
  },
  {
   "cell_type": "markdown",
   "id": "711c6376-334e-46a2-b09e-9e6de56274da",
   "metadata": {
    "tags": []
   },
   "source": [
    "Creates a Persistent Volume Claim with a unique name in the specified namespace if it doesn't already exist."
   ]
  },
  {
   "cell_type": "code",
   "execution_count": null,
   "id": "d1e99722-cd70-4081-a99f-e98370147e59",
   "metadata": {
    "tags": []
   },
   "outputs": [],
   "source": [
    "def create_pvc(namespace, pvc_name):\n",
    "    \"\"\"Create Persistent Volume Claim if it doesn't exist.\"\"\"\n",
    "    if not resource_exists(\"pvc\", pvc_name, namespace):\n",
    "        try:\n",
    "            pvc = f\"\"\"\n",
    "apiVersion: v1\n",
    "kind: PersistentVolumeClaim\n",
    "metadata:\n",
    "  name: {pvc_name}\n",
    "  namespace: {namespace}\n",
    "spec:\n",
    "  accessModes:\n",
    "    - ReadWriteOnce\n",
    "  resources:\n",
    "    requests:\n",
    "      storage: 1Gi\n",
    "  storageClassName: gl4f-filesystem\n",
    "            \"\"\"\n",
    "            subprocess.run(f\"echo '{pvc}' | kubectl apply -f -\", shell=True, check=True)\n",
    "            print(f\"Created new PVC: {pvc_name}\")\n",
    "        except subprocess.CalledProcessError as e:\n",
    "            print(f\"Error creating PVC with unique name, trying default name: {e}\")\n",
    "            pvc_name = \"postgres-pvc\"\n",
    "            if not resource_exists(\"pvc\", pvc_name, namespace):\n",
    "                pvc = f\"\"\"\n",
    "apiVersion: v1\n",
    "kind: PersistentVolumeClaim\n",
    "metadata:\n",
    "  name: {pvc_name}\n",
    "  namespace: {namespace}\n",
    "spec:\n",
    "  accessModes:\n",
    "    - ReadWriteOnce\n",
    "  resources:\n",
    "    requests:\n",
    "      storage: 1Gi\n",
    "  storageClassName: gl4f-filesystem\n",
    "                    \"\"\"\n",
    "                subprocess.run(f\"echo '{pvc}' | kubectl apply -f -\", shell=True, check=True)\n",
    "    else:\n",
    "        print(f\"Using existing PVC: {pvc_name}\")\n",
    "    return pvc_name"
   ]
  },
  {
   "cell_type": "markdown",
   "id": "85fd994d-f166-435b-94cc-ca7b7a8a029d",
   "metadata": {
    "tags": []
   },
   "source": [
    "Creates a PostgreSQL deployment using the specified parameters and attaches the PVC for storage."
   ]
  },
  {
   "cell_type": "code",
   "execution_count": null,
   "id": "14a32c8e-c2fd-4d2b-80cf-7add75fff955",
   "metadata": {
    "tags": []
   },
   "outputs": [],
   "source": [
    "def create_postgresql_deployment(namespace, pg_service_name, pvc_name, postgres_password, pg_database_name):\n",
    "    \"\"\"Create the PostgreSQL deployment.\"\"\"\n",
    "    deployment = f\"\"\"\n",
    "apiVersion: apps/v1\n",
    "kind: Deployment\n",
    "metadata:\n",
    "  name: {pg_service_name}\n",
    "  namespace: {namespace}\n",
    "  labels:\n",
    "    app: {pg_service_name}\n",
    "spec:\n",
    "  replicas: 1\n",
    "  selector:\n",
    "    matchLabels:\n",
    "      app: {pg_service_name}\n",
    "  template:\n",
    "    metadata:\n",
    "      labels:\n",
    "        app: {pg_service_name}\n",
    "      annotations:\n",
    "        sidecar.istio.io/inject: \"false\"\n",
    "    spec:\n",
    "      securityContext:\n",
    "        fsGroup: 999\n",
    "        runAsUser: 999\n",
    "        runAsGroup: 999\n",
    "      containers:\n",
    "      - name: postgres\n",
    "        image: postgres:13\n",
    "        env:\n",
    "        - name: POSTGRES_PASSWORD\n",
    "          value: \"{postgres_password}\"\n",
    "        - name: POSTGRES_DB\n",
    "          value: \"{pg_database_name}\"\n",
    "        - name: PGDATA\n",
    "          value: \"/var/lib/postgresql/data/pgdata\"\n",
    "        ports:\n",
    "        - containerPort: 5432\n",
    "        volumeMounts:\n",
    "        - name: postgres-data\n",
    "          mountPath: /var/lib/postgresql/data\n",
    "          subPath: postgres\n",
    "        resources:\n",
    "          requests:\n",
    "            memory: \"512Mi\"\n",
    "            cpu: \"500m\"\n",
    "          limits:\n",
    "            memory: \"1Gi\"\n",
    "            cpu: \"1\"\n",
    "        readinessProbe:\n",
    "          exec:\n",
    "            command:\n",
    "            - pg_isready\n",
    "            - -U\n",
    "            - postgres\n",
    "          initialDelaySeconds: 5\n",
    "          periodSeconds: 5\n",
    "        livenessProbe:\n",
    "          exec:\n",
    "            command:\n",
    "            - pg_isready\n",
    "            - -U\n",
    "            - postgres\n",
    "          initialDelaySeconds: 30\n",
    "          periodSeconds: 10\n",
    "      volumes:\n",
    "      - name: postgres-data\n",
    "        persistentVolumeClaim:\n",
    "          claimName: {pvc_name}\n",
    "        \"\"\"\n",
    "    subprocess.run(f\"echo '{deployment}' | kubectl apply -f -\", shell=True, check=True)"
   ]
  },
  {
   "cell_type": "markdown",
   "id": "ffcbc9e6-e149-465c-a258-914d8d4885e4",
   "metadata": {
    "tags": []
   },
   "source": [
    "Creates a PostgreSQL service in the specified namespace if it doesn't already exist."
   ]
  },
  {
   "cell_type": "code",
   "execution_count": null,
   "id": "253c86ef-8151-4c69-a5aa-5c3a1b1db8f7",
   "metadata": {
    "tags": []
   },
   "outputs": [],
   "source": [
    "def create_service_if_not_exists(namespace, pg_service_name):\n",
    "    \"\"\"Create the PostgreSQL service if it doesn't exist.\"\"\"\n",
    "    if not resource_exists(\"service\", pg_service_name, namespace):\n",
    "        service = f\"\"\"\n",
    "apiVersion: v1\n",
    "kind: Service\n",
    "metadata:\n",
    "  name: {pg_service_name}\n",
    "  namespace: {namespace}\n",
    "spec:\n",
    "  selector:\n",
    "    app: {pg_service_name}\n",
    "  ports:\n",
    "    - protocol: TCP\n",
    "      port: 5432\n",
    "      targetPort: 5432\n",
    "  type: ClusterIP\n",
    "            \"\"\"\n",
    "        subprocess.run(f\"echo '{service}' | kubectl apply -f -\", shell=True, check=True)"
   ]
  },
  {
   "cell_type": "markdown",
   "id": "965c644c-a85e-44ee-8a2e-6c0c5ce5a723",
   "metadata": {
    "tags": []
   },
   "source": [
    "Checks the status and logs of the PostgreSQL pod to ensure it is running correctly."
   ]
  },
  {
   "cell_type": "code",
   "execution_count": null,
   "id": "cdbcb85c-1a9a-48ef-843b-1be63104e1dc",
   "metadata": {
    "tags": []
   },
   "outputs": [],
   "source": [
    "def check_postgresql_status(namespace, pg_service_name):\n",
    "    \"\"\"Check the status of the PostgreSQL pod.\"\"\"\n",
    "    pod_name = get_pod_name(namespace, pg_service_name)\n",
    "    if pod_name:\n",
    "        print(f\"\\nPostgreSQL pod: {pod_name}\")\n",
    "        print(\"\\nPod status:\")\n",
    "        subprocess.run(f\"kubectl get pod -n {namespace} {pod_name}\", shell=True)\n",
    "        \n",
    "        print(\"\\nPod logs:\")\n",
    "        subprocess.run(f\"kubectl logs -n {namespace} {pod_name}\", shell=True)\n",
    "    else:\n",
    "        print(\"Could not find PostgreSQL pod\")"
   ]
  },
  {
   "cell_type": "markdown",
   "id": "16190ad9-5279-4499-956b-0aa2c80b71dc",
   "metadata": {
    "tags": []
   },
   "source": [
    "Deploy PostgreSQL with proper permission handling and PVC management."
   ]
  },
  {
   "cell_type": "code",
   "execution_count": null,
   "id": "df98e0aa-799a-4f4b-965e-dfc26aeabe1e",
   "metadata": {
    "tags": []
   },
   "outputs": [],
   "source": [
    "def deploy_postgresql():\n",
    "    \"\"\"Deploy PostgreSQL with proper permission handling and PVC management\"\"\"\n",
    "    pvc_name = f\"postgres-pvc-{datetime.now().strftime('%Y%m%d%H%M%S')}\"\n",
    "    \n",
    "    # Delete any existing deployment\n",
    "    delete_existing_deployment(NAMESPACE, PG_SERVICE_NAME)\n",
    "    \n",
    "    # Create PVC\n",
    "    pvc_name = create_pvc(NAMESPACE, pvc_name)\n",
    "    \n",
    "    # Create Deployment\n",
    "    create_postgresql_deployment(NAMESPACE, PG_SERVICE_NAME, pvc_name, POSTGRES_PASSWORD, PG_DATABASE_NAME)\n",
    "    \n",
    "    # Create Service if necessary\n",
    "    create_service_if_not_exists(NAMESPACE, PG_SERVICE_NAME)\n",
    "    \n",
    "    # Wait for PostgreSQL to initialize\n",
    "    print(\"Waiting for PostgreSQL to initialize...\")\n",
    "    time.sleep(30)\n",
    "    \n",
    "    # Check the status of the PostgreSQL pod\n",
    "    check_postgresql_status(NAMESPACE, PG_SERVICE_NAME)"
   ]
  },
  {
   "cell_type": "markdown",
   "id": "89efe53c-670c-47cf-8822-8527a585eecc",
   "metadata": {
    "tags": []
   },
   "source": [
    "Run the deployment"
   ]
  },
  {
   "cell_type": "code",
   "execution_count": null,
   "id": "672c72ff-4a19-4ad0-a5d2-28073ed36eef",
   "metadata": {
    "tags": []
   },
   "outputs": [],
   "source": [
    "# Run the deployment\n",
    "deploy_postgresql()"
   ]
  },
  {
   "cell_type": "markdown",
   "id": "922dfac2-2f13-4b17-9e01-cd7cee98f55a",
   "metadata": {
    "tags": []
   },
   "source": [
    "## **4. Database Connection and Retry Logic:**"
   ]
  },
  {
   "cell_type": "markdown",
   "id": "acafe4dd-7c94-4416-a505-fb25558a614b",
   "metadata": {
    "tags": []
   },
   "source": [
    "To interact with the PostgreSQL database, we use `psycopg2` to connect to the database. <br>\n",
    "We implement retry logic in case the database is not yet available after the deployment."
   ]
  },
  {
   "cell_type": "code",
   "execution_count": null,
   "id": "fec57b1b-3c0e-40ae-a1a0-cc79ad56e7ab",
   "metadata": {},
   "outputs": [],
   "source": [
    "def get_db_connection(retries=3, delay=5):\n",
    "    \"\"\"Get connection with retries\"\"\"\n",
    "    for attempt in range(retries):\n",
    "        try:\n",
    "            conn = psycopg2.connect(\n",
    "                host=f\"{PG_SERVICE_NAME}.{NAMESPACE}.svc.cluster.local\",\n",
    "                database=PG_DATABASE_NAME,\n",
    "                user=\"postgres\",\n",
    "                password=POSTGRES_PASSWORD,\n",
    "                port=\"5432\",\n",
    "                connect_timeout=5\n",
    "            )\n",
    "            return conn\n",
    "        except psycopg2.OperationalError as e:\n",
    "            if attempt == retries - 1:\n",
    "                raise\n",
    "            print(f\"Connection failed (attempt {attempt + 1}), retrying...\")\n",
    "            time.sleep(delay)"
   ]
  },
  {
   "cell_type": "markdown",
   "id": "da51a94f-3bb3-4e7c-a98e-1c69d13c18a6",
   "metadata": {
    "tags": []
   },
   "source": [
    "## **5. Initialize Database & Generate Sample Data:**"
   ]
  },
  {
   "cell_type": "markdown",
   "id": "ed8c26c1-0e3b-4be3-af5d-2991ada94f4f",
   "metadata": {},
   "source": [
    "Initializes the database by creating tables and loading sample data into the PostgreSQL database."
   ]
  },
  {
   "cell_type": "code",
   "execution_count": null,
   "id": "bd579475-5a3b-4499-bc57-ea1a0b96d821",
   "metadata": {},
   "outputs": [],
   "source": [
    "def initialize_database():\n",
    "    \"\"\"Create tables and load sample data\"\"\"\n",
    "    try:\n",
    "        print(\"Initializing database...\")\n",
    "        \n",
    "        # 1. Create tables\n",
    "        print(\"Creating tables...\")\n",
    "        conn = get_db_connection()\n",
    "        cursor = conn.cursor()\n",
    "        \n",
    "        cursor.execute('''\n",
    "        CREATE TABLE IF NOT EXISTS source_catalog (\n",
    "            product_id INT PRIMARY KEY,\n",
    "            product_name VARCHAR(100),\n",
    "            product_category VARCHAR(50),\n",
    "            price_cents INT\n",
    "        );''')\n",
    "        \n",
    "        cursor.execute('''\n",
    "        CREATE TABLE IF NOT EXISTS source_customers (\n",
    "            customer_id INT PRIMARY KEY,\n",
    "            customer_name VARCHAR(50),\n",
    "            customer_surname VARCHAR(50),\n",
    "            customer_email VARCHAR(100)\n",
    "        );''')\n",
    "        \n",
    "        cursor.execute('''\n",
    "        CREATE TABLE IF NOT EXISTS source_stock (\n",
    "            entry_id INT PRIMARY KEY,\n",
    "            product_id INT REFERENCES source_catalog(product_id),\n",
    "            product_quantity INT,\n",
    "            purchase_price_cents INT,\n",
    "            entry_date DATE\n",
    "        );''')\n",
    "        \n",
    "        cursor.execute('''\n",
    "        CREATE TABLE IF NOT EXISTS source_orders (\n",
    "            order_id INT PRIMARY KEY,\n",
    "            customer_id INT REFERENCES source_customers(customer_id),\n",
    "            order_status VARCHAR(20),\n",
    "            order_date DATE\n",
    "        );''')\n",
    "        \n",
    "        cursor.execute('''\n",
    "        CREATE TABLE IF NOT EXISTS source_order_products (\n",
    "            transaction_id INT PRIMARY KEY,\n",
    "            order_id INT REFERENCES source_orders(order_id),\n",
    "            product_id INT REFERENCES source_catalog(product_id),\n",
    "            product_quantity INT\n",
    "        );''')\n",
    "        \n",
    "        conn.commit()\n",
    "        print(\"Tables created successfully\")\n",
    "        \n",
    "        # 2. Load sample data\n",
    "        print(\"Loading sample data...\")\n",
    "        data = generate_sample_data()\n",
    "        \n",
    "        # Load products\n",
    "        for p in data[\"products\"]:\n",
    "            cursor.execute('''\n",
    "                INSERT INTO source_catalog VALUES (%s, %s, %s, %s)\n",
    "                ON CONFLICT (product_id) DO NOTHING\n",
    "            ''', (p[\"product_id\"], p[\"product_name\"], p[\"product_category\"], p[\"price_cents\"]))\n",
    "        \n",
    "        # Load customers\n",
    "        for c in data[\"customers\"]:\n",
    "            cursor.execute('''\n",
    "                INSERT INTO source_customers VALUES (%s, %s, %s, %s)\n",
    "                ON CONFLICT (customer_id) DO NOTHING\n",
    "            ''', (c[\"customer_id\"], c[\"customer_name\"], c[\"customer_surname\"], c[\"customer_email\"]))\n",
    "        \n",
    "        # Load stock\n",
    "        for s in data[\"stock\"]:\n",
    "            cursor.execute('''\n",
    "                INSERT INTO source_stock VALUES (%s, %s, %s, %s, %s)\n",
    "                ON CONFLICT (entry_id) DO NOTHING\n",
    "            ''', (s[\"entry_id\"], s[\"product_id\"], s[\"product_quantity\"], s[\"purchase_price_cents\"], s[\"entry_date\"]))\n",
    "        \n",
    "        # Load orders\n",
    "        for o in data[\"orders\"]:\n",
    "            cursor.execute('''\n",
    "                INSERT INTO source_orders VALUES (%s, %s, %s, %s)\n",
    "                ON CONFLICT (order_id) DO NOTHING\n",
    "            ''', (o[\"order_id\"], o[\"customer_id\"], o[\"order_status\"], o[\"order_date\"]))\n",
    "        \n",
    "        # Load order products\n",
    "        for op in data[\"order_products\"]:\n",
    "            cursor.execute('''\n",
    "                INSERT INTO source_order_products VALUES (%s, %s, %s, %s)\n",
    "                ON CONFLICT (transaction_id) DO NOTHING\n",
    "            ''', (op[\"transaction_id\"], op[\"order_id\"], op[\"product_id\"], op[\"product_quantity\"]))\n",
    "        \n",
    "        conn.commit()\n",
    "        print(\"Sample data loaded successfully\")\n",
    "        \n",
    "    except Exception as e:\n",
    "        conn.rollback()\n",
    "        print(f\"Error during initialization: {e}\")\n",
    "        raise\n",
    "    finally:\n",
    "        cursor.close()\n",
    "        conn.close()"
   ]
  },
  {
   "cell_type": "markdown",
   "id": "2494690f-0d06-4cf3-ad50-23e3879f25a1",
   "metadata": {
    "tags": []
   },
   "source": [
    "The `generate_sample_data` function simulates realistic product, customer, stock, and order data with controlled imperfections. <br>\n",
    "It includes deliberate imperfections (e.g., missing emails, invalid product categories) <br>\n",
    "The returned data is structured in a way that makes it easy to insert into the database.<br>\n",
    "This data can be used for testing and analysis within the PostgreSQL database."
   ]
  },
  {
   "cell_type": "code",
   "execution_count": null,
   "id": "a4a84c23-1e52-47e9-bd2b-132bf6c151b6",
   "metadata": {},
   "outputs": [],
   "source": [
    "# Generate sample data function (same as before)\n",
    "def generate_sample_data():\n",
    "    \"\"\"Generate realistic sample data with controlled imperfections\"\"\"\n",
    "    categories = [\"Toys\", \"Clothing\", \"Books\", \"Electronics\", \"Home Decor\", \"Toyz\", \"Clothng\", \"Eletronics\"]\n",
    "    first_names = [\"Emma\", \"Liam\", \"Olivia\", \"Noah\", \"Ava\", None, \" \"]\n",
    "    last_names = [\"Smith\", \"Johnson\", \"Williams\", \"Brown\", \"Jones\", \"De'Lacey\", \"O'Brien\", \"Van Helsing\"]\n",
    "    statuses = [\"completed\", \"pending\", \"cancelled\", \"shipped\", \"in progress\", \"done\"]\n",
    "    \n",
    "    def get_email_part(part):\n",
    "        if part is None:\n",
    "            return \"unknown\"\n",
    "        part = str(part).strip()\n",
    "        return part.lower() if part else \"unknown\"\n",
    "    \n",
    "    # Products - with some imperfections\n",
    "    products = []\n",
    "    for i in range(1, 101):\n",
    "        if random.random() > 0.95 and i > 1:\n",
    "            continue\n",
    "            \n",
    "        if random.random() > 0.98 and i > 1:\n",
    "            products.append({\n",
    "                \"product_id\": i-1,\n",
    "                \"product_name\": f\"Duplicate {random.choice([c for c in categories if c])[:-1]} {i}\",\n",
    "                \"product_category\": random.choice(categories),\n",
    "                \"price_cents\": random.randint(500, 10000)\n",
    "            })\n",
    "        \n",
    "        product_name = f\"{random.choice([c for c in categories if c])[:-1]} {i}\" if random.random() > 0.1 else None\n",
    "        product_category = random.choice(categories) if random.random() > 0.1 else None\n",
    "        price_cents = random.randint(500, 10000) if random.random() > 0.05 else None\n",
    "            \n",
    "        products.append({\n",
    "            \"product_id\": i,\n",
    "            \"product_name\": product_name,\n",
    "            \"product_category\": product_category,\n",
    "            \"price_cents\": price_cents\n",
    "        })\n",
    "    \n",
    "    # Customers - with some imperfections\n",
    "    customers = []\n",
    "    for i in range(1, 51):\n",
    "        first_part = random.choice(first_names)\n",
    "        last_part = random.choice(last_names)\n",
    "        email = f\"{get_email_part(first_part)}.{get_email_part(last_part)}@example.com\"\n",
    "        \n",
    "        if random.random() > 0.9:\n",
    "            email = \"invalid.email\"\n",
    "        if random.random() > 0.95:\n",
    "            email = None\n",
    "            \n",
    "        name = random.choice(first_names) if random.random() > 0.1 else None\n",
    "        surname = random.choice(last_names) if random.random() > 0.1 else None\n",
    "        \n",
    "        customers.append({\n",
    "            \"customer_id\": i,\n",
    "            \"customer_name\": name,\n",
    "            \"customer_surname\": surname,\n",
    "            \"customer_email\": email\n",
    "        })\n",
    "    \n",
    "    # Stock - with some imperfections\n",
    "    stock = []\n",
    "    entry_id = 1\n",
    "    for product in products:\n",
    "        if random.random() > 0.05:\n",
    "            for _ in range(random.randint(1, 3)):\n",
    "                quantity = random.randint(10, 100)\n",
    "                if random.random() > 0.95:\n",
    "                    quantity = -quantity\n",
    "                    \n",
    "                days_ago = random.randint(1, 365)\n",
    "                if random.random() > 0.9:\n",
    "                    days_ago = random.randint(1000, 2000)\n",
    "                \n",
    "                purchase_price = int(product[\"price_cents\"] * 0.7) if product.get(\"price_cents\") else None\n",
    "                \n",
    "                if random.random() > 0.95:\n",
    "                    entry_date = None\n",
    "                else:\n",
    "                    entry_date = (datetime.now() - timedelta(days=days_ago)).date()\n",
    "                \n",
    "                stock.append({\n",
    "                    \"entry_id\": entry_id,\n",
    "                    \"product_id\": product[\"product_id\"],\n",
    "                    \"product_quantity\": quantity if random.random() > 0.95 else None,\n",
    "                    \"purchase_price_cents\": purchase_price,\n",
    "                    \"entry_date\": entry_date\n",
    "                })\n",
    "                entry_id += 1\n",
    "    \n",
    "    # Orders - with controlled imperfections\n",
    "    orders = []\n",
    "    valid_customer_ids = [c[\"customer_id\"] for c in customers]\n",
    "    for i in range(1, 201):\n",
    "        if random.random() > 0.95:\n",
    "            customer_id = None  # NULL if allowed by schema\n",
    "        else:\n",
    "            customer_id = random.choice(valid_customer_ids)\n",
    "            \n",
    "        if random.random() > 0.95:\n",
    "            order_date = None\n",
    "        elif random.random() > 0.98:\n",
    "            order_date = (datetime.now() + timedelta(days=random.randint(1000, 2000))).date()\n",
    "        else:\n",
    "            order_date = (datetime.now() - timedelta(days=random.randint(1, 90))).date()\n",
    "            \n",
    "        orders.append({\n",
    "            \"order_id\": i,\n",
    "            \"customer_id\": customer_id,\n",
    "            \"order_status\": random.choice(statuses),\n",
    "            \"order_date\": order_date\n",
    "        })\n",
    "    \n",
    "    # Order Products - Now only using valid product IDs\n",
    "    order_products = []\n",
    "    valid_product_ids = [p[\"product_id\"] for p in products]\n",
    "    transaction_id = 1\n",
    "    for order in orders:\n",
    "        for _ in range(random.randint(1, 5)):\n",
    "            # Always use valid product IDs\n",
    "            product_id = random.choice(valid_product_ids)\n",
    "            \n",
    "            quantity = random.randint(1, 3)\n",
    "            if random.random() > 0.97:\n",
    "                quantity = -quantity\n",
    "                \n",
    "            order_products.append({\n",
    "                \"transaction_id\": transaction_id,\n",
    "                \"order_id\": order[\"order_id\"],\n",
    "                \"product_id\": product_id,\n",
    "                \"product_quantity\": quantity if random.random() > 0.95 else None\n",
    "            })\n",
    "            transaction_id += 1\n",
    "    \n",
    "    return {\n",
    "        \"products\": products,\n",
    "        \"customers\": customers,\n",
    "        \"stock\": stock,\n",
    "        \"orders\": orders,\n",
    "        \"order_products\": order_products\n",
    "    }"
   ]
  },
  {
   "cell_type": "markdown",
   "id": "7c26f1f9-489b-4408-83e9-77c9a183a7f8",
   "metadata": {},
   "source": [
    "Run initialization"
   ]
  },
  {
   "cell_type": "code",
   "execution_count": null,
   "id": "b93a3a91-0dca-43e1-8370-404b0c97fa6e",
   "metadata": {},
   "outputs": [],
   "source": [
    "# Run initialization separately\n",
    "initialize_database()"
   ]
  },
  {
   "cell_type": "markdown",
   "id": "318187ca-e5ee-4846-b0a9-293efe1f59d9",
   "metadata": {},
   "source": [
    "# **Conclusion**"
   ]
  },
  {
   "cell_type": "markdown",
   "id": "7e027a2b-d412-4621-b26f-00e1ddebeda8",
   "metadata": {
    "tags": []
   },
   "source": [
    "By following these steps, you'll deploy a PostgreSQL database to a Kubernetes cluster, initialize it with tables, and load sample data for analysis. \n",
    "\n",
    "This exercise helps you become familiar with automating Kubernetes deployments using Python, handling PostgreSQL databases, and generating and loading data for testing purposes.\n",
    "\n",
    "In the next exercise, you will learn how to use Spark on HPE Private Cloud AI to prepare these datasets for visualization and modelling. \n",
    "\n"
   ]
  }
 ],
 "metadata": {
  "kernelspec": {
   "display_name": "Python 3 (ipykernel)",
   "language": "python",
   "name": "python3"
  },
  "language_info": {
   "codemirror_mode": {
    "name": "ipython",
    "version": 3
   },
   "file_extension": ".py",
   "mimetype": "text/x-python",
   "name": "python",
   "nbconvert_exporter": "python",
   "pygments_lexer": "ipython3",
   "version": "3.11.9"
  }
 },
 "nbformat": 4,
 "nbformat_minor": 5
}
