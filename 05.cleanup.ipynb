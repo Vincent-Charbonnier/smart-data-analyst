{
 "cells": [
  {
   "cell_type": "markdown",
   "id": "7be01229-0819-4586-8d10-32c2a0513ed9",
   "metadata": {
    "tags": []
   },
   "source": [
    "<img src=\"./images/logo.png\" alt=\"Drawing\" style=\"width: 500px;\"/>"
   ]
  },
  {
   "cell_type": "markdown",
   "id": "2806b008-9c4f-42f5-838a-5b42b0d5188e",
   "metadata": {
    "tags": []
   },
   "source": [
    "# Cleanup\n",
    "\n",
    "Let’s put everything back the way it was!"
   ]
  },
  {
   "cell_type": "markdown",
   "id": "bf552cc0-f949-4d48-9637-d5f987603046",
   "metadata": {},
   "source": [
    "## **1. Remove Presto Connectors**"
   ]
  },
  {
   "cell_type": "markdown",
   "id": "e979b842-0d53-46e8-8126-d4639c93f0cd",
   "metadata": {
    "tags": []
   },
   "source": [
    "1. Navigate back to the AI Essentials dashboard.\n",
    "1. In the sidebar navigation menu, select `Data Engineering` > `Data Sources`.\n",
    "1. Under `Structured Data`, click on the 3 dots.\n",
    "1. Click `Remove`."
   ]
  },
  {
   "cell_type": "markdown",
   "id": "2cd037af-d27b-4687-9496-0a0f9777b396",
   "metadata": {},
   "source": [
    "### 1. Remove the SQL connecter \n",
    "<img src=\"./images/exercise5/rm_sql.png\" alt=\"Drawing\" style=\"width: 35%;\"/>"
   ]
  },
  {
   "cell_type": "markdown",
   "id": "f2486b9e-dab7-45d8-89a8-a2fb7c8a1330",
   "metadata": {},
   "source": [
    "### 2. Remove the Delta Table connecter \n",
    "<img src=\"./images/exercise5/rm_delta.png\" alt=\"Drawing\" style=\"width: 35%;\"/>"
   ]
  },
  {
   "cell_type": "markdown",
   "id": "373a2578-bb71-4467-8ec2-5409e7d6a799",
   "metadata": {},
   "source": [
    "## **2. Clean the rest**"
   ]
  },
  {
   "cell_type": "markdown",
   "id": "a5f77b6b-690e-4b2c-a3ac-5b217c27f684",
   "metadata": {
    "tags": []
   },
   "source": [
    "<div class=\"alert alert-block alert-danger\">\n",
    "    <b>Important:</b> Set your <b>Username</b>, your <b>Domain</b> and your <b>Delta Path</b> here !\n",
    "</div>"
   ]
  },
  {
   "cell_type": "code",
   "execution_count": 1,
   "id": "7fa58ce2-9ae7-4047-b1bb-958fa169aec3",
   "metadata": {},
   "outputs": [],
   "source": [
    "USERNAME=\"\"\n",
    "DOMAIN=\"\"\n",
    "DELTA_PATH=f\"/mnt/shared/{USERNAME}/delta-tables/\""
   ]
  },
  {
   "cell_type": "markdown",
   "id": "cfb0f5a0-6771-4c64-a790-dbfec1216b52",
   "metadata": {},
   "source": [
    "## Cleanup"
   ]
  },
  {
   "cell_type": "markdown",
   "id": "033f3e5d-58ab-4d20-9e15-159432a17d30",
   "metadata": {},
   "source": [
    "Function that reads the Kubernetes namespace from the service account mount point."
   ]
  },
  {
   "cell_type": "code",
   "execution_count": null,
   "id": "f2d9ef1d-e4d4-4d42-acb6-c9abae749939",
   "metadata": {
    "tags": []
   },
   "outputs": [],
   "source": [
    "def get_namespace_from_service_account():\n",
    "    \"\"\"\n",
    "    Reads the Kubernetes namespace from the service account mount point.\n",
    "    Returns 'default' if not running in a Kubernetes pod or if the file doesn't exist.\n",
    "    \"\"\"\n",
    "    namespace_file = '/var/run/secrets/kubernetes.io/serviceaccount/namespace'\n",
    "    try:\n",
    "        with open(namespace_file, 'r') as f:\n",
    "            return f.read().strip()\n",
    "    except IOError:\n",
    "        return 'default'"
   ]
  },
  {
   "cell_type": "markdown",
   "id": "e39e5827-2345-4ddd-8e04-c586ad77ed31",
   "metadata": {},
   "source": [
    "Function that cleans the Delta Tables"
   ]
  },
  {
   "cell_type": "code",
   "execution_count": null,
   "id": "fbe4a4ae-55d8-4f19-b1b2-cd172213f45a",
   "metadata": {},
   "outputs": [],
   "source": [
    "def clean_delta_tables():\n",
    "    \"\"\"Clean up Delta tables\"\"\"\n",
    "    import shutil\n",
    "    try:\n",
    "        print(f\"\\nCleaning Delta tables at: {DELTA_PATH}\")\n",
    "        \n",
    "        if os.path.exists(DELTA_PATH):\n",
    "            print(\"Removing Delta directory...\")\n",
    "            shutil.rmtree(DELTA_PATH)\n",
    "            print(\"Delta tables removed successfully!\")\n",
    "        else:\n",
    "            print(\"Delta directory not found - nothing to clean\")\n",
    "            \n",
    "    except Exception as e:\n",
    "        print(f\"Error cleaning Delta tables: {str(e)}\")"
   ]
  },
  {
   "cell_type": "markdown",
   "id": "06148d03-c2e2-41bd-84f7-a173a3e50d39",
   "metadata": {},
   "source": [
    "Function that performs a complete cleanup of the environment"
   ]
  },
  {
   "cell_type": "code",
   "execution_count": null,
   "id": "69bc49d8-962c-4561-b87f-f7d6587e546a",
   "metadata": {},
   "outputs": [],
   "source": [
    "def full_cleanup():\n",
    "    \"\"\"Perform complete cleanup including persistent data and analytics resources\"\"\"\n",
    "    print(\"=== Starting Full Cleanup ===\")\n",
    "    clean_postgresql_deployment()\n",
    "    delete_persistent_data()\n",
    "    clean_delta_tables()\n",
    "    print(\"=== Full Cleanup Completed ===\")"
   ]
  },
  {
   "cell_type": "markdown",
   "id": "b8689bd6-0dab-48bb-8768-26e24833cfb4",
   "metadata": {},
   "source": [
    "Creating a menu to execute the cleanup so that user can chose to keep data or not"
   ]
  },
  {
   "cell_type": "code",
   "execution_count": null,
   "id": "2ab4b54f-651f-48ed-b749-c0bf7c0dd7c5",
   "metadata": {},
   "outputs": [],
   "source": [
    "# Update the main menu\n",
    "if __name__ == \"__main__\":\n",
    "    print(\"Retail Analytics Kubernetes Cleanup Tool\")\n",
    "    print(f\"Namespace: {NAMESPACE}\")\n",
    "    print(f\"PostgreSQL Resource: {PG_SERVICE_NAME}\")\n",
    "    print(f\"PVC Prefix: {PVC_PREFIX}*\")\n",
    "    print(f\"Presto Catalogs: {CATALOG}, {DELTA_CATALOG}\")\n",
    "    print(f\"Delta Path: {DELTA_PATH}\")\n",
    "    \n",
    "    choice = input(\"\\nChoose cleanup option:\\n\"\n",
    "                   \"1. Basic cleanup (deployment/service)\\n\"\n",
    "                   \"2. Full cleanup (including data)\\n\"\n",
    "                   \"Enter choice (1/2): \")\n",
    "    \n",
    "    if choice == \"1\":\n",
    "        clean_postgresql_deployment()\n",
    "    elif choice == \"2\":\n",
    "        full_cleanup()\n",
    "    else:\n",
    "        print(\"Invalid choice. Exiting.\")"
   ]
  },
  {
   "cell_type": "markdown",
   "id": "025dfac0-f760-45ed-9c7f-ecc7d86535a4",
   "metadata": {
    "tags": []
   },
   "source": [
    "# **Conclusion**\n",
    "\n",
    "Thank you for exploring our **Smart Retail Data Analyst** Demo! We’ve just seen how cutting-edge technologies like **Apache Spark**, **Delta Lake**, **Presto**, and **NVIDIA Inference Microservices** come together to unlock the true power of retail data.\n",
    "\n",
    "Throughout the exercises, we:\n",
    "- Analyzed customer purchasing patterns\n",
    "- Predicted sales trends with real-time data\n",
    "- Optimized inventory with fast, interactive SQL queries\n",
    "- Used natural language to extract AI-powered insights effortlessly\n",
    "\n",
    "Now that all exercises are complete and the environment has been successfully cleaned up, this concludes our demo."
   ]
  },
  {
   "cell_type": "code",
   "execution_count": null,
   "id": "377bc608-edb2-4e60-8630-b89f46b4b483",
   "metadata": {},
   "outputs": [],
   "source": []
  }
 ],
 "metadata": {
  "kernelspec": {
   "display_name": "Python 3 (ipykernel)",
   "language": "python",
   "name": "python3"
  },
  "language_info": {
   "codemirror_mode": {
    "name": "ipython",
    "version": 3
   },
   "file_extension": ".py",
   "mimetype": "text/x-python",
   "name": "python",
   "nbconvert_exporter": "python",
   "pygments_lexer": "ipython3",
   "version": "3.11.9"
  }
 },
 "nbformat": 4,
 "nbformat_minor": 5
}
